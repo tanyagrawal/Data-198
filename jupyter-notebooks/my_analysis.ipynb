{
 "cells": [
  {
   "cell_type": "markdown",
   "id": "0e9352a0",
   "metadata": {},
   "source": [
    "[Data 198]\n",
    "Assignment 0 - Git Activity"
   ]
  },
  {
   "cell_type": "code",
   "execution_count": 1,
   "id": "2bb272e9",
   "metadata": {},
   "outputs": [],
   "source": [
    "import pandas as pd\n",
    "import numpy as np\n",
    "import matplotlib.pyplot as plt"
   ]
  },
  {
   "cell_type": "code",
   "execution_count": null,
   "id": "b0ce130e",
   "metadata": {},
   "outputs": [],
   "source": []
  }
 ],
 "metadata": {
  "kernelspec": {
   "display_name": "Python 3 (ipykernel)",
   "language": "python",
   "name": "python3"
  },
  "language_info": {
   "codemirror_mode": {
    "name": "ipython",
    "version": 3
   },
   "file_extension": ".py",
   "mimetype": "text/x-python",
   "name": "python",
   "nbconvert_exporter": "python",
   "pygments_lexer": "ipython3",
   "version": "3.9.13"
  }
 },
 "nbformat": 4,
 "nbformat_minor": 5
}
